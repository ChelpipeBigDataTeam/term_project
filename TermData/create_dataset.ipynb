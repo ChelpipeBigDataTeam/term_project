{
 "cells": [
  {
   "cell_type": "code",
   "execution_count": 1,
   "metadata": {
    "collapsed": true
   },
   "outputs": [],
   "source": [
    "import pandas as pd\n",
    "import numpy as np\n",
    "import seaborn as sns\n",
    "\n",
    "import data_paths as dp\n",
    "import titles as tl\n",
    "from matplotlib import pyplot as plt"
   ]
  },
  {
   "cell_type": "code",
   "execution_count": 2,
   "metadata": {},
   "outputs": [
    {
     "data": {
      "text/plain": [
       "(8759, 74)"
      ]
     },
     "execution_count": 2,
     "metadata": {},
     "output_type": "execute_result"
    }
   ],
   "source": [
    "data = pd.read_excel('../Data/prepared/prepared_data.xlsx')\n",
    "\n",
    "data = data[data[u'примечание'] != u'до']\n",
    "data = data[data[u'примечание'] != u'уд']\n",
    "data = data[data[u'примечание'] != u'зи']\n",
    "data = data[data[u'примечание'] != u'ви']\n",
    "data = data[data[u'примечание'] != u'хк']\n",
    "data = data[data[u'способ'] != u'отпуск во всех инд. ОКБ 4']\n",
    "data = data[data[u'расход воды (норм.)'] != u'зак. с подстуж.']\n",
    "\n",
    "data[u'C'] = data[u'C'].apply(lambda x: str(x).replace(',', '.')).astype(float)\n",
    "data[u'Cr'] = data[u'Cr'].apply(lambda x: str(x).replace(',', '.')).astype(float)\n",
    "data[u'N'] = data[u'N'].apply(lambda x: str(x).replace(',', '.')).astype(float)\n",
    "data[u'темп-ра терм. (норм.)'] = data[u'темп-ра терм. (норм.)'].astype(float)\n",
    "data[u'темп-ра спрейр (норм.)'] = data[u'темп-ра спрейр (норм.)'].astype(float)\n",
    "data[u'темп-ра терм. (МКИ)'] = data[u'темп-ра терм. (МКИ)'].astype(float)\n",
    "data[u'темп-ра спрейр (МКИ)'] = data[u'темп-ра спрейр (МКИ)'].astype(float)\n",
    "data[u'темп-ра терм. (отпуск)'] = data[u'темп-ра терм. (отпуск)'].astype(float)\n",
    "data[u'ОКБ (МКИ)'] = data[u'ОКБ (МКИ)'].astype(float)\n",
    "\n",
    "data[u'предел текучести'] = data[u'предел текучести'].apply(lambda x: x/9.8 if x > 100.0 else x)\n",
    "data[u'прочность'] = data[u'прочность'].apply(lambda x: x/9.8 if x > 100.0 else x)\n",
    "data[u'расход воды (норм.)'] = data[u'расход воды (норм.)'].apply(lambda x: x.replace('.', '') if type(x) \\\n",
    "                                                                                                  == unicode else x)\n",
    "data[u'расход воды (МКИ)'] = data[u'расход воды (МКИ)'].apply(lambda x: x.replace('.', '') if type(x) \\\n",
    "                                                                                              == unicode else x)\n",
    "\n",
    "data[u'расход воды (норм.) (1)'] = None\n",
    "data[u'расход воды (норм.) (2)'] = None\n",
    "data[u'расход воды (норм.) (3)'] = None\n",
    "data[u'расход воды (МКИ) (1)'] = None\n",
    "data[u'расход воды (МКИ) (2)'] = None\n",
    "data[u'расход воды (МКИ) (3)'] = None\n",
    "\n",
    "data.index = pd.Series([i for i in range(data.shape[0])])\n",
    "for i in range(data.shape[0]):\n",
    "    try:\n",
    "        r1, r2, r3 = data.loc[i, u'расход воды (норм.)'].split(u'/')\n",
    "    except:\n",
    "            try:\n",
    "                r1, r2 = data.loc[i, u'расход воды (норм.)'].split(u'/')\n",
    "                r3 = 0\n",
    "            except:\n",
    "                continue\n",
    "    data.loc[i, u'расход воды (норм.) (1)'] = float(r1)\n",
    "    data.loc[i, u'расход воды (норм.) (2)'] = float(r2)\n",
    "    data.loc[i, u'расход воды (норм.) (3)'] = float(r3)\n",
    "    data.loc[i, u'расход воды (норм.)'] = float(r1) + float(r2) + float(r3)\n",
    "\n",
    "for i in range(data.shape[0]):\n",
    "    try:\n",
    "        r1, r2, r3 = data.loc[i, u'расход воды (МКИ)'].split(u'/')\n",
    "    except:\n",
    "            try:\n",
    "                r1, r2 = data.loc[i, u'расход воды (МКИ)'].split(u'/')\n",
    "                r3 = 0\n",
    "            except:\n",
    "                continue\n",
    "    data.loc[i, u'расход воды (МКИ) (1)'] = float(r1)\n",
    "    data.loc[i, u'расход воды (МКИ) (2)'] = float(r2)\n",
    "    data.loc[i, u'расход воды (МКИ) (3)'] = float(r3)\n",
    "    data.loc[i, u'расход воды (МКИ)'] = float(r1) + float(r2) + float(r3)\n",
    "\n",
    "# data[u'расход воды (норм.)'] = data[u'расход воды (норм.)'].astype(float)\n",
    "data[u'расход воды (норм.) (1)'] = data[u'расход воды (норм.) (1)'].astype(float)\n",
    "data[u'расход воды (норм.) (2)'] = data[u'расход воды (норм.) (2)'].astype(float)\n",
    "data[u'расход воды (норм.) (3)'] = data[u'расход воды (норм.) (3)'].astype(float)\n",
    "# data[u'удельный расход воды (норм.)'] = data[u'расход воды (норм.)'] / data[u'диаметр'].astype(float)\n",
    "# data[u'расход воды (МКИ)'] = data[u'расход воды (МКИ)'].astype(float)\n",
    "data[u'расход воды (МКИ) (1)'] = data[u'расход воды (МКИ) (1)'].astype(float)\n",
    "data[u'расход воды (МКИ) (2)'] = data[u'расход воды (МКИ) (2)'].astype(float)\n",
    "data[u'расход воды (МКИ) (3)'] = data[u'расход воды (МКИ) (3)'].astype(float)\n",
    "# data[u'удельный расход воды (МКИ)'] = data[u'расход воды (МКИ)'] / data[u'диаметр'].apply(lambda x: x*np.pi)\n",
    "\n",
    "data[[u'норм_1', u'норм_2', u'норм_3', u'норм_4']] = pd.get_dummies(data[u'ОКБ (норм.)'])\n",
    "data[[u'МКИ_1', u'МКИ_2', u'МКИ_3', u'МКИ_4']] = pd.get_dummies(data[u'ОКБ (МКИ)'])\n",
    "data[[u'отпуск_1', u'отпуск_2', u'отпуск_3', u'отпуск_4']] = pd.get_dummies(data[u'ОКБ (отпуск)'])\n",
    "\n",
    "data[u'длина (отпуск)'] = None\n",
    "data.loc[data[u'ОКБ (отпуск)'] == 1.0, u'длина (отпуск)'] = 2.2\n",
    "data.loc[data[u'ОКБ (отпуск)'] == 2.0, u'длина (отпуск)'] = 2.2\n",
    "data.loc[data[u'ОКБ (отпуск)'] == 3.0, u'длина (отпуск)'] = 1.2\n",
    "data.loc[data[u'ОКБ (отпуск)'] == 4.0, u'длина (отпуск)'] = 2.9\n",
    "\n",
    "data[u'длина (закалка)'] = None\n",
    "data.loc[data[u'ОКБ (норм.)'] == 1.0, u'длина (закалка)'] = 2.2\n",
    "data.loc[data[u'ОКБ (норм.)'] == 2.0, u'длина (закалка)'] = 2.2\n",
    "data.loc[data[u'ОКБ (норм.)'] == 3.0, u'длина (закалка)'] = 2.2\n",
    "data.loc[data[u'ОКБ (норм.)'] == 4.0, u'длина (закалка)'] = 1.65\n",
    "data.loc[data[u'ОКБ (МКИ)'] == 1.0, u'длина (закалка)'] = 2.2\n",
    "data.loc[data[u'ОКБ (МКИ)'] == 2.0, u'длина (закалка)'] = 2.2\n",
    "data.loc[data[u'ОКБ (МКИ)'] == 3.0, u'длина (закалка)'] = 2.2\n",
    "data.loc[data[u'ОКБ (МКИ)'] == 4.0, u'длина (закалка)'] = 1.65\n",
    "data.shape"
   ]
  },
  {
   "cell_type": "code",
   "execution_count": 3,
   "metadata": {},
   "outputs": [
    {
     "data": {
      "text/plain": [
       "(3513, 41)"
      ]
     },
     "execution_count": 3,
     "metadata": {},
     "output_type": "execute_result"
    }
   ],
   "source": [
    "# Полная закалка\n",
    "full_hard = data[(pd.notnull(data[u'темп-ра спрейр (норм.)'])) & (pd.isnull(data[u'темп-ра терм. (МКИ)']))]\n",
    "full_hard = full_hard[full_hard[u'C'] < 0.2]\n",
    "full_hard[u'Mo'] = full_hard[u'Mo'].fillna(0)\n",
    "full_hard[u'Ti'] = full_hard[u'Ti'].fillna(0)\n",
    "full_hard[u'Nb'] = full_hard[u'Nb'].fillna(0)\n",
    "full_hard = full_hard[tl.full_hard_title]\n",
    "full_hard.shape"
   ]
  },
  {
   "cell_type": "code",
   "execution_count": 5,
   "metadata": {},
   "outputs": [],
   "source": [
    "# Она же\n",
    "full_hard_MKI = data[(pd.isnull(data[u'темп-ра терм. (норм.)'])) & (pd.notnull(data[u'темп-ра терм. (МКИ)']))]\n",
    "full_hard_MKI = full_hard_MKI[full_hard_MKI[u'C'] < 0.2]\n",
    "full_hard_MKI[u'Mo'] = full_hard_MKI[u'Mo'].fillna(0)\n",
    "full_hard_MKI[u'Ti'] = full_hard_MKI[u'Ti'].fillna(0)\n",
    "full_hard_MKI[u'Nb'] = full_hard_MKI[u'Nb'].fillna(0)\n",
    "full_hard_MKI[u'темп-ра терм. (норм.)'] = full_hard_MKI[u'темп-ра терм. (МКИ)']\n",
    "full_hard_MKI[u'темп-ра спрейр (норм.)'] = full_hard_MKI[u'темп-ра спрейр (МКИ)']\n",
    "full_hard_MKI[u'расход воды (норм.)'] = full_hard_MKI[u'расход воды (МКИ)']\n",
    "full_hard_MKI[u'расход воды (норм.) (1)'] = full_hard_MKI[u'расход воды (МКИ) (1)']\n",
    "full_hard_MKI[u'расход воды (норм.) (2)'] = full_hard_MKI[u'расход воды (МКИ) (2)']\n",
    "full_hard_MKI[u'расход воды (норм.) (3)'] = full_hard_MKI[u'расход воды (МКИ) (3)']\n",
    "full_hard_MKI[[u'норм_1', u'норм_2', u'норм_3', u'норм_4']] = full_hard_MKI[[u'МКИ_1', u'МКИ_2', u'МКИ_3', u'МКИ_4']]\n",
    "full_hard_MKI[u'скорость движения (норм.)'] = full_hard_MKI[u'скорость движения (МКИ)']\n",
    "full_hard_MKI.shape\n",
    "full_hard_MKI.to_excel('tmp.xlsx')"
   ]
  },
  {
   "cell_type": "code",
   "execution_count": 6,
   "metadata": {
    "collapsed": false
   },
   "outputs": [
    {
     "data": {
      "text/plain": [
       "(4287, 74)"
      ]
     },
     "execution_count": 6,
     "metadata": {},
     "output_type": "execute_result"
    }
   ],
   "source": [
    "# Соединяем\n",
    "full_hard = pd.concat([full_hard, full_hard_MKI])\n",
    "full_hard = full_hard[pd.notnull(full_hard[u'предел текучести'])]\n",
    "full_hard.shape"
   ]
  },
  {
   "cell_type": "code",
   "execution_count": 6,
   "metadata": {
    "collapsed": false
   },
   "outputs": [
    {
     "data": {
      "text/plain": [
       "(1821, 52)"
      ]
     },
     "execution_count": 6,
     "metadata": {},
     "output_type": "execute_result"
    }
   ],
   "source": [
    "# Двухкратная закалка\n",
    "\n",
    "notnull = pd.notnull(data[u'темп-ра терм. (норм.)'])\n",
    "for title in tl.not_null_double_harding:\n",
    "    notnull = notnull & pd.notnull(data[title])\n",
    "double_harding = data[notnull]\n",
    "double_harding = double_harding[double_harding[u'C'] < 0.2]\n",
    "double_harding[u'Mo'] = double_harding[u'Mo'].fillna(0)\n",
    "double_harding[u'Ti'] = double_harding[u'Ti'].fillna(0)\n",
    "double_harding[u'Nb'] = double_harding[u'Nb'].fillna(0)\n",
    "double_harding = double_harding[tl.double_hard_title]\n",
    "double_harding.shape"
   ]
  },
  {
   "cell_type": "code",
   "execution_count": 30,
   "metadata": {},
   "outputs": [],
   "source": [
    "# Двухкратная закалка\n",
    "\n",
    "# double_harding = double_harding[double_harding[u'расход воды (норм.)'] != u'возд']\n",
    "\n",
    "\n",
    "def f(x):\n",
    "    for col in [u\"предел текучести\", u\"прочность\"]:\n",
    "        if max(x[col]) - min(x[col]) >= 4.0:\n",
    "            x[col] = None\n",
    "        else:\n",
    "            x[col] = x[col].mean()\n",
    "    return x.mean()\n",
    "# double_harding.to_excel('tmp.xlsx')\n",
    "double_harding[ u'расход воды (норм.)'] = double_harding[ u'расход воды (норм.)'].astype(float)\n",
    "double_harding[ u'расход воды (МКИ)'] = double_harding[u'расход воды (МКИ)'].astype(float)\n",
    "y = double_harding.groupby([u'№ партии'])[\n",
    "    u'диаметр',\n",
    "    u'толщина стенки',\n",
    "    u'темп-ра терм. (норм.)',\n",
    "    u'темп-ра спрейр (норм.)',\n",
    "    u'скорость движения (норм.)',\n",
    "    u'темп-ра терм. (МКИ)',\n",
    "    u'темп-ра спрейр (МКИ)',\n",
    "    u'скорость движения (МКИ)',\n",
    "    u'темп-ра терм. (отпуск)',\n",
    "    u'темп-ра спрейр (отпуск)',\n",
    "    u'скорость движения (отпуск)',\n",
    "    u'предел текучести',\n",
    "    u'прочность',\n",
    "    # u'удлинение',\n",
    "    u'HRB',\n",
    "    u'C',\n",
    "    u'Mn',\n",
    "    u'Si',\n",
    "    u'P',\n",
    "    u'S',\n",
    "    u'Cr',\n",
    "    u'Ni',\n",
    "    u'Cu',\n",
    "    u'Al',\n",
    "    u'V',\n",
    "    #u'N',\n",
    "    u'Mo',\n",
    "    u'Ti',\n",
    "    u'Nb',\n",
    "    u'норм_1',\n",
    "    u'норм_2',\n",
    "    u'норм_3',\n",
    "    u'норм_4',\n",
    "    u'МКИ_1',\n",
    "    u'МКИ_2',\n",
    "    u'МКИ_3',\n",
    "    u'МКИ_4',\n",
    "    u'отпуск_1',\n",
    "    u'отпуск_2',\n",
    "    u'отпуск_3',\n",
    "    u'отпуск_4',\n",
    "    u'расход воды (норм.)',\n",
    "    u'расход воды (норм.) (1)',\n",
    "    u'расход воды (норм.) (2)',\n",
    "    u'расход воды (норм.) (3)',\n",
    "    u'расход воды (МКИ)',\n",
    "    u'расход воды (МКИ) (1)',\n",
    "    u'расход воды (МКИ) (2)',\n",
    "    u'расход воды (МКИ) (3)',\n",
    "    u'длина (отпуск)',\n",
    "    u'длина (закалка)'\n",
    "].apply(f).dropna()\n",
    "y[u'удельный расход воды (норм.)'] = y[u'расход воды (норм.)'] * 1000.0 / (y[u'диаметр'] * np.pi)\n",
    "y[u'удельный расход воды (МКИ)'] = y[u'расход воды (МКИ)'] * 1000.0 / (y[u'диаметр'] * np.pi)\n",
    "y[u'параметр отпуска'] = (y[u'темп-ра терм. (отпуск)'] + 273.0) \\\n",
    "                         * (\n",
    "                             20 + np.log(y[u'длина (отпуск)']) - np.log(\n",
    "                                 y[u'скорость движения (отпуск)'] * 60.0)) \\\n",
    "                         * 1e-3\n",
    "y[u'параметр закалки'] = 1.0 / (1.0 / (y[u'темп-ра терм. (МКИ)']+273.0) - 2.303 * 1.986 / 110000.0 * \\\n",
    "                                (np.log10(y[u'длина (закалка)']) - \\\n",
    "                                 np.log10(y[u'скорость движения (МКИ)'] * 60.0))) - 273.0\n",
    "y = y[y[u\"Mo\"] < 0.1]\n",
    "y = y[y[u\"Mn\"] < 1.0]\n",
    "y.to_excel('../Data/datasets/double_harding/double_harding_data.xlsx')"
   ]
  },
  {
   "cell_type": "code",
   "execution_count": 31,
   "metadata": {},
   "outputs": [],
   "source": [
    "sns.pairplot(y)\n",
    "plt.savefig(\"../Data/plots/pairplot_double.jpg\")"
   ]
  },
  {
   "cell_type": "code",
   "execution_count": 8,
   "metadata": {
    "collapsed": false
   },
   "outputs": [],
   "source": [
    "# Полная закалка\n",
    "\n",
    "full_hard = full_hard[full_hard[u'расход воды (норм.)'] != u'воздух']\n",
    "\n",
    "\n",
    "def f(x):\n",
    "    for col in [u\"предел текучести\", u\"прочность\"]:\n",
    "        if max(x[col]) - min(x[col]) >= 4.0:\n",
    "            x[col] = None\n",
    "        else:\n",
    "            x[col] = x[col].mean()\n",
    "    return x.mean()\n",
    "y = full_hard.groupby([u'№ партии'])[\n",
    "    u'диаметр',\n",
    "    u'толщина стенки',\n",
    "    u'темп-ра терм. (норм.)',\n",
    "    u'темп-ра спрейр (норм.)',\n",
    "    u'скорость движения (норм.)',\n",
    "    u'темп-ра терм. (отпуск)',\n",
    "    u'темп-ра спрейр (отпуск)',\n",
    "    u'скорость движения (отпуск)',\n",
    "    u'предел текучести',\n",
    "    u'прочность',\n",
    "    #u'удлинение',\n",
    "    u'HRB',\n",
    "    u'C',\n",
    "    u'Mn',\n",
    "    u'Si',\n",
    "    u'P',\n",
    "    u'S',\n",
    "    u'Cr',\n",
    "    u'Ni',\n",
    "    u'Cu',\n",
    "    u'Al',\n",
    "    u'V',\n",
    "    #u'N',\n",
    "    u'Mo',\n",
    "    u'Ti',\n",
    "    u'Nb',\n",
    "    u'норм_1',\n",
    "    u'норм_2',\n",
    "    u'норм_3',\n",
    "    u'норм_4',\n",
    "    u'отпуск_1',\n",
    "    u'отпуск_2',\n",
    "    u'отпуск_3',\n",
    "    u'отпуск_4',\n",
    "    u'расход воды (норм.)',\n",
    "    u'расход воды (норм.) (1)',\n",
    "    u'расход воды (норм.) (2)',\n",
    "    u'расход воды (норм.) (3)',\n",
    "    u'длина (отпуск)',\n",
    "    u'длина (закалка)'\n",
    "].apply(f).dropna()\n",
    "y[u'удельный расход воды'] = y[u'расход воды (норм.)'] * 1000.0 / (y[u'диаметр'] * np.pi)\n",
    "y[u'параметр отпуска'] = (y[u'темп-ра терм. (отпуск)'] + 273.0) \\\n",
    "                         * (\n",
    "                             20 + np.log(y[u'длина (отпуск)']) - np.log(\n",
    "                                 y[u'скорость движения (отпуск)'] * 60.0)) \\\n",
    "                         * 1e-3\n",
    "y[u'параметр закалки'] = 1.0 / (1.0 / (y[u'темп-ра терм. (норм.)']+273.0) - 2.303 * 1.986 / 110000.0 * \\\n",
    "                                (np.log10(y[u'длина (закалка)']) - \\\n",
    "                                 np.log10(y[u'скорость движения (норм.)'] * 60.0))) - 273.0\n",
    "y = y[y[u\"Mo\"] < 0.1]\n",
    "y = y[y[u\"Mn\"] < 1.0]\n",
    "y.to_excel('../Data/datasets/full_harding/full_harding_data.xlsx')"
   ]
  },
  {
   "cell_type": "code",
   "execution_count": 9,
   "metadata": {},
   "outputs": [],
   "source": [
    "sns.pairplot(y)\n",
    "plt.savefig(\"../Data/plots/pairplot.jpg\")"
   ]
  },
  {
   "cell_type": "code",
   "execution_count": null,
   "metadata": {},
   "outputs": [],
   "source": [
    ""
   ]
  }
 ],
 "metadata": {
  "kernelspec": {
   "display_name": "Python 2",
   "language": "python",
   "name": "python2"
  },
  "language_info": {
   "codemirror_mode": {
    "name": "ipython",
    "version": 2.0
   },
   "file_extension": ".py",
   "mimetype": "text/x-python",
   "name": "python",
   "nbconvert_exporter": "python",
   "pygments_lexer": "ipython2",
   "version": "2.7.6"
  }
 },
 "nbformat": 4,
 "nbformat_minor": 0
}